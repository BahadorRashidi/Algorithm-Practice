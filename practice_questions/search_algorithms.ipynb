{
  "nbformat": 4,
  "nbformat_minor": 0,
  "metadata": {
    "colab": {
      "name": "Untitled0.ipynb",
      "provenance": [],
      "collapsed_sections": []
    },
    "kernelspec": {
      "name": "python3",
      "display_name": "Python 3"
    }
  },
  "cells": [
    {
      "cell_type": "markdown",
      "metadata": {
        "id": "AB07QTTBUaZ4",
        "colab_type": "text"
      },
      "source": [
        "# Search Algorithms\n",
        "1- Linear search O(n)\n",
        "\n",
        "2- Binary Search\n",
        "\n",
        "3- Jump Search\n",
        "\n",
        "4- Interpolation search\n",
        "\n",
        "5- Exponenial search"
      ]
    },
    {
      "cell_type": "markdown",
      "metadata": {
        "id": "tuCvfh-kUyfX",
        "colab_type": "text"
      },
      "source": [
        "**Problem:** Given an array arr[] of n elements, write a function to search a given element x in arr[]."
      ]
    },
    {
      "cell_type": "code",
      "metadata": {
        "id": "Gx86swAEU18o",
        "colab_type": "code",
        "outputId": "ca7bb818-6ad6-44e0-9aeb-9c8807ba3ad8",
        "colab": {
          "base_uri": "https://localhost:8080/",
          "height": 34
        }
      },
      "source": [
        "arr = [1,4,2,7,12,-3]\n",
        "def linear_search(arr, x):\n",
        "  for i in range(len(arr)):\n",
        "    if arr[i] == x:\n",
        "      return i\n",
        "    return -1\n",
        "\n",
        "\n",
        "linear_search(arr, 18)"
      ],
      "execution_count": 0,
      "outputs": [
        {
          "output_type": "execute_result",
          "data": {
            "text/plain": [
              "-1"
            ]
          },
          "metadata": {
            "tags": []
          },
          "execution_count": 9
        }
      ]
    },
    {
      "cell_type": "markdown",
      "metadata": {
        "id": "vTzQ_wX4WXgG",
        "colab_type": "text"
      },
      "source": [
        "**Problem:** Given a sorted array arr[] of n elements, write a function to search a given element x in arr[].\n",
        "\n",
        "\n",
        "1- we know it is sorted, so we started with the middle variable which devides the entire array into half.\n",
        "\n",
        "2- if the compare the middle value with x and pick the right side.\n",
        "\n",
        "3- we repeat this procedure until we reach to the x"
      ]
    },
    {
      "cell_type": "code",
      "metadata": {
        "id": "iHPx2xb5WZGV",
        "colab_type": "code",
        "outputId": "13eb2e67-56d9-40e8-8fd9-74e6a1277979",
        "colab": {
          "base_uri": "https://localhost:8080/",
          "height": 50
        }
      },
      "source": [
        "import numpy as np\n",
        "\n",
        "arr_s = np.sort(arr, kind='quicksort', order=None)\n",
        "\n",
        "def binary_search(arr, x, s_i, e_i):\n",
        "  \n",
        "  # base case\n",
        "  if e_i < 1:\n",
        "    return -1\n",
        "\n",
        "  mid = (s_i + e_i)//2\n",
        "  if arr[mid] == x:\n",
        "    return mid\n",
        "  elif arr[mid] > x:\n",
        "    return binary_search(arr, x, e_i, mid)\n",
        "\n",
        "  elif arr[mid] < x:\n",
        "    return binary_search(arr, x, mid, e_i)\n",
        "\n",
        "  return -1 \n",
        "\n",
        "\n",
        "print(arr_s)\n",
        "print(binary_search(arr_s, 4, 0, len(arr)))\n",
        "\n"
      ],
      "execution_count": 0,
      "outputs": [
        {
          "output_type": "stream",
          "text": [
            "[-3  1  2  4  7 12]\n",
            "3\n"
          ],
          "name": "stdout"
        }
      ]
    }
  ]
}